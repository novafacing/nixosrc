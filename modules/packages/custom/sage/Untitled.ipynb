{
 "cells": [
  {
   "cell_type": "code",
   "execution_count": 1,
   "metadata": {},
   "outputs": [
    {
     "name": "stdout",
     "output_type": "stream",
     "text": [
      "100000/3\n",
      "100000/9\n",
      "100000/27\n",
      "100000/81\n",
      "100000/243\n",
      "100000/729\n",
      "100000/2187\n",
      "100000/6561\n",
      "100000/19683\n",
      "100000/59049\n",
      "100000/177147\n"
     ]
    }
   ],
   "source": [
    "import math\n",
    "\n",
    "i = 100000\n",
    "while i > 1:\n",
    "    i /= 3\n",
    "    print(i)"
   ]
  },
  {
   "cell_type": "code",
   "execution_count": 2,
   "metadata": {},
   "outputs": [
    {
     "name": "stdout",
     "output_type": "stream",
     "text": [
      "100000/3\n",
      "100000/9\n",
      "100000/27\n",
      "100000/81\n",
      "100000/243\n",
      "100000/729\n",
      "100000/2187\n",
      "100000/6561\n",
      "100000/19683\n",
      "100000/59049\n",
      "100000/177147\n"
     ]
    }
   ],
   "source": [
    "import math\n",
    "\n",
    "i = 100000\n",
    "while i > 1:\n",
    "    i /= 3\n",
    "    print(i)"
   ]
  },
  {
   "cell_type": "code",
   "execution_count": 3,
   "metadata": {},
   "outputs": [
    {
     "data": {
      "text/plain": [
       "10.479516371446921"
      ]
     },
     "execution_count": 3,
     "metadata": {},
     "output_type": "execute_result"
    }
   ],
   "source": [
    "math.log(100000, 3)"
   ]
  },
  {
   "cell_type": "code",
   "execution_count": 43,
   "metadata": {},
   "outputs": [
    {
     "name": "stdout",
     "output_type": "stream",
     "text": [
      "('Iterating from 0 to ', 10000)\n",
      "('Outer (i, k, j) ', 100, 10000, 10000)\n",
      "('Iterating from 0 to ', 3300)\n",
      "('Outer (i, k, j) ', 33, 13300, 3300)\n",
      "('Iterating from 0 to ', 1100)\n",
      "('Outer (i, k, j) ', 11, 14400, 1100)\n",
      "('Iterating from 0 to ', 300)\n",
      "('Outer (i, k, j) ', 3, 14700, 300)\n",
      "('Outer (i, n, i * n) ', 100000/177147, 100, 10000000/177147)\n",
      "('Outer (i, n, i * n) ', 100000/177147, 100, 10000000/177147)\n",
      "('Outer (i, n, i * n) ', 100000/177147, 100, 10000000/177147)\n",
      "('Outer (i, n, i * n) ', 100000/177147, 100, 10000000/177147)\n",
      "('mathematically: ', 224)\n"
     ]
    }
   ],
   "source": [
    "def a2(n):\n",
    "    k = 0\n",
    "    for _ in reversed(range(1, int(math.ceil(math.log(n, 3))), 1)):\n",
    "        \n",
    "        print(\"Outer (i, n, i * n) \", i, n, i * n)\n",
    "        for j in range(i * n):\n",
    "            k += 1\n",
    "    print(\"mathematically: \", k)\n",
    "\n",
    "\n",
    "def a1(n):\n",
    "    i = n\n",
    "    k = 0\n",
    "    while i > 1:\n",
    "        j = 0\n",
    "        print(\"Iterating from 0 to \", i * n)\n",
    "        while j < i * n:\n",
    "            k += 1\n",
    "            j += 1\n",
    "        print(\"Outer (i, k, j) \", i, k, j)\n",
    "        i //= 3\n",
    "\n",
    "a1(100)\n",
    "a2(100)"
   ]
  },
  {
   "cell_type": "code",
   "execution_count": 15,
   "metadata": {},
   "outputs": [
    {
     "data": {
      "text/plain": [
       "439.2810535176964"
      ]
     },
     "execution_count": 15,
     "metadata": {},
     "output_type": "execute_result"
    }
   ],
   "source": [
    "10^2 * math.log(10, 3)^2"
   ]
  },
  {
   "cell_type": "code",
   "execution_count": 17,
   "metadata": {},
   "outputs": [
    {
     "data": {
      "text/plain": [
       "2.095903274289385"
      ]
     },
     "execution_count": 17,
     "metadata": {},
     "output_type": "execute_result"
    }
   ],
   "source": [
    "math.log(10, 3)\n"
   ]
  },
  {
   "cell_type": "code",
   "execution_count": 41,
   "metadata": {},
   "outputs": [
    {
     "data": {
      "text/plain": [
       "10000"
      ]
     },
     "execution_count": 41,
     "metadata": {},
     "output_type": "execute_result"
    }
   ],
   "source": [
    "100 * 100\n"
   ]
  },
  {
   "cell_type": "code",
   "execution_count": null,
   "metadata": {},
   "outputs": [],
   "source": []
  }
 ],
 "metadata": {
  "kernelspec": {
   "display_name": "SageMath 8.9",
   "language": "sagemath",
   "name": "sagemath"
  },
  "language_info": {
   "codemirror_mode": {
    "name": "ipython",
    "version": 2
   },
   "file_extension": ".py",
   "mimetype": "text/x-python",
   "name": "python",
   "nbconvert_exporter": "python",
   "pygments_lexer": "ipython2",
   "version": "2.7.18"
  }
 },
 "nbformat": 4,
 "nbformat_minor": 2
}
